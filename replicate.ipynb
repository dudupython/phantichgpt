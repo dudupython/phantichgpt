{
 "cells": [
  {
   "cell_type": "code",
   "execution_count": 1,
   "metadata": {},
   "outputs": [],
   "source": [
    "!export REPLICATE_API_TOKEN=r8_e23kYhi9cWsTHTCtrLeAPvKN7JJMVSy0MUdrQ"
   ]
  },
  {
   "cell_type": "code",
   "execution_count": null,
   "metadata": {},
   "outputs": [],
   "source": []
  },
  {
   "cell_type": "code",
   "execution_count": 4,
   "metadata": {},
   "outputs": [],
   "source": [
    "import os\n",
    "import replicate\n",
    "\n",
    "os.environ[\"REPLICATE_API_TOKEN\"] = 'r8_e23kYhi9cWsTHTCtrLeAPvKN7JJMVSy0MUdrQ'\n"
   ]
  },
  {
   "cell_type": "code",
   "execution_count": 5,
   "metadata": {},
   "outputs": [
    {
     "data": {
      "text/plain": [
       "['https://pbxt.replicate.delivery/uENBEe5AoqwdQCOefCzf1J3oF1a4nLVoQTtvsyTPx7g3l03GB/out-0.png']"
      ]
     },
     "execution_count": 5,
     "metadata": {},
     "output_type": "execute_result"
    }
   ],
   "source": [
    "output = replicate.run(\n",
    "  \"stability-ai/stable-diffusion:27b93a2413e7f36cd83da926f3656280b2931564ff050bf9575f1fdf9bcd7478\",\n",
    "  input={\"prompt\": \"an iguana on the beach, pointillism\"}\n",
    ")\n",
    "\n",
    "output"
   ]
  },
  {
   "cell_type": "code",
   "execution_count": 6,
   "metadata": {},
   "outputs": [
    {
     "data": {
      "text/html": [
       "<img src=\"https://pbxt.replicate.delivery/uENBEe5AoqwdQCOefCzf1J3oF1a4nLVoQTtvsyTPx7g3l03GB/out-0.png\"/>"
      ],
      "text/plain": [
       "<IPython.core.display.Image object>"
      ]
     },
     "execution_count": 6,
     "metadata": {},
     "output_type": "execute_result"
    }
   ],
   "source": [
    "from IPython.display import Image\n",
    "Image(url=output[0])"
   ]
  },
  {
   "cell_type": "code",
   "execution_count": 3,
   "metadata": {},
   "outputs": [
    {
     "ename": "ReplicateException",
     "evalue": "The `model.predict()` method has been removed, because it's unstable: if a new version of the model you're using is pushed and its API has changed, your code may break. Use `replicate.run()` instead. See https://github.com/replicate/replicate-python#readme",
     "output_type": "error",
     "traceback": [
      "\u001b[0;31m---------------------------------------------------------------------------\u001b[0m",
      "\u001b[0;31mReplicateException\u001b[0m                        Traceback (most recent call last)",
      "\u001b[1;32m/Users/anhbui/sites/next54/replicate.ipynb Cell 4\u001b[0m line \u001b[0;36m1\n\u001b[1;32m     <a href='vscode-notebook-cell:/Users/anhbui/sites/next54/replicate.ipynb#W0sZmlsZQ%3D%3D?line=14'>15</a>\u001b[0m \u001b[39m# run prediction\u001b[39;00m\n\u001b[1;32m     <a href='vscode-notebook-cell:/Users/anhbui/sites/next54/replicate.ipynb#W0sZmlsZQ%3D%3D?line=15'>16</a>\u001b[0m model \u001b[39m=\u001b[39m replicate\u001b[39m.\u001b[39mmodels\u001b[39m.\u001b[39mget(\u001b[39m\"\u001b[39m\u001b[39mandreasjansson/clip-features\u001b[39m\u001b[39m\"\u001b[39m)\n\u001b[0;32m---> <a href='vscode-notebook-cell:/Users/anhbui/sites/next54/replicate.ipynb#W0sZmlsZQ%3D%3D?line=16'>17</a>\u001b[0m outputs \u001b[39m=\u001b[39m model\u001b[39m.\u001b[39;49mpredict(inputs\u001b[39m=\u001b[39;49minputs)\n\u001b[1;32m     <a href='vscode-notebook-cell:/Users/anhbui/sites/next54/replicate.ipynb#W0sZmlsZQ%3D%3D?line=18'>19</a>\u001b[0m \u001b[39m# output similarity of the three text lines with the image on line 4\u001b[39;00m\n\u001b[1;32m     <a href='vscode-notebook-cell:/Users/anhbui/sites/next54/replicate.ipynb#W0sZmlsZQ%3D%3D?line=19'>20</a>\u001b[0m \u001b[39mfor\u001b[39;00m i \u001b[39min\u001b[39;00m \u001b[39mrange\u001b[39m(\u001b[39m3\u001b[39m):\n",
      "File \u001b[0;32m/Library/Frameworks/Python.framework/Versions/3.11/lib/python3.11/site-packages/replicate/model.py:96\u001b[0m, in \u001b[0;36mModel.predict\u001b[0;34m(self, *args, **kwargs)\u001b[0m\n\u001b[1;32m     91\u001b[0m \u001b[39mdef\u001b[39;00m \u001b[39mpredict\u001b[39m(\u001b[39mself\u001b[39m, \u001b[39m*\u001b[39margs, \u001b[39m*\u001b[39m\u001b[39m*\u001b[39mkwargs) \u001b[39m-\u001b[39m\u001b[39m>\u001b[39m \u001b[39mNone\u001b[39;00m:\n\u001b[1;32m     92\u001b[0m \u001b[39m    \u001b[39m\u001b[39m\"\"\"\u001b[39;00m\n\u001b[1;32m     93\u001b[0m \u001b[39m    DEPRECATED: Use `replicate.run()` instead.\u001b[39;00m\n\u001b[1;32m     94\u001b[0m \u001b[39m    \"\"\"\u001b[39;00m\n\u001b[0;32m---> 96\u001b[0m     \u001b[39mraise\u001b[39;00m ReplicateException(\n\u001b[1;32m     97\u001b[0m         \u001b[39m\"\u001b[39m\u001b[39mThe `model.predict()` method has been removed, because it\u001b[39m\u001b[39m'\u001b[39m\u001b[39ms unstable: if a new version of the model you\u001b[39m\u001b[39m'\u001b[39m\u001b[39mre using is pushed and its API has changed, your code may break. Use `replicate.run()` instead. See https://github.com/replicate/replicate-python#readme\u001b[39m\u001b[39m\"\u001b[39m\n\u001b[1;32m     98\u001b[0m     )\n",
      "\u001b[0;31mReplicateException\u001b[0m: The `model.predict()` method has been removed, because it's unstable: if a new version of the model you're using is pushed and its API has changed, your code may break. Use `replicate.run()` instead. See https://github.com/replicate/replicate-python#readme"
     ]
    }
   ],
   "source": [
    "import replicate\n",
    "import numpy as np\n",
    "from numpy.linalg import norm\n",
    "\n",
    "def cos_sim(a, b):\n",
    "    return np.dot(a, b) / (norm(a) * norm(b))\n",
    "\n",
    "inputs = \"\"\"\n",
    "a photo of a dog\n",
    "a cat\n",
    "two cats with remote controls\n",
    "https://replicate.com/api/models/cjwbw/clip-vit-large-patch14/files/36b04aec-efe2-4dea-9c9d-a5faca68b2b2/000000039769.jpg\n",
    "\"\"\"\n",
    "\n",
    "# run prediction\n",
    "model = replicate.models.get(\"andreasjansson/clip-features\")\n",
    "outputs = model.predict(inputs=inputs)\n",
    "\n",
    "# output similarity of the three text lines with the image on line 4\n",
    "for i in range(3):\n",
    "    print(outputs[i][\"input\"])\n",
    "    print(cos_sim(outputs[i][\"embedding\"], outputs[3][\"embedding\"]))\n",
    "    print()\n",
    "\n",
    "\n",
    "\n",
    "# run prediction\n",
    "model = replicate.models.get(\"andreasjansson/clip-features\")\n",
    "outputs = model.predict(inputs=inputs)\n",
    "\n",
    "# output similarity of the three text lines with the image on line 4\n",
    "for i in range(3):\n",
    "    print(outputs[i].input)\n",
    "    print(cos_sim(outputs[i].embedding, outputs[3].embedding))\n",
    "    print()\n"
   ]
  },
  {
   "cell_type": "code",
   "execution_count": 1,
   "metadata": {},
   "outputs": [
    {
     "ename": "ModuleNotFoundError",
     "evalue": "No module named 'pygooglenews'",
     "output_type": "error",
     "traceback": [
      "\u001b[0;31m---------------------------------------------------------------------------\u001b[0m",
      "\u001b[0;31mModuleNotFoundError\u001b[0m                       Traceback (most recent call last)",
      "\u001b[1;32m/Users/anhbui/sites/next54/replicate.ipynb Cell 7\u001b[0m line \u001b[0;36m1\n\u001b[0;32m----> <a href='vscode-notebook-cell:/Users/anhbui/sites/next54/replicate.ipynb#W6sZmlsZQ%3D%3D?line=0'>1</a>\u001b[0m \u001b[39mfrom\u001b[39;00m \u001b[39mpygooglenews\u001b[39;00m \u001b[39mimport\u001b[39;00m GoogleNews\n\u001b[1;32m      <a href='vscode-notebook-cell:/Users/anhbui/sites/next54/replicate.ipynb#W6sZmlsZQ%3D%3D?line=2'>3</a>\u001b[0m gn \u001b[39m=\u001b[39m GoogleNews()\n\u001b[1;32m      <a href='vscode-notebook-cell:/Users/anhbui/sites/next54/replicate.ipynb#W6sZmlsZQ%3D%3D?line=3'>4</a>\u001b[0m s \u001b[39m=\u001b[39m gn\u001b[39m.\u001b[39msearch(\u001b[39m'\u001b[39m\u001b[39mboeing OR airbus\u001b[39m\u001b[39m'\u001b[39m)\n",
      "\u001b[0;31mModuleNotFoundError\u001b[0m: No module named 'pygooglenews'"
     ]
    }
   ],
   "source": [
    "from pygooglenews import GoogleNews\n",
    "\n",
    "gn = GoogleNews()\n",
    "s = gn.search('boeing OR airbus')\n",
    "\n",
    "for entry in s[\"entries\"]:\n",
    "    print(entry[\"title\"])"
   ]
  }
 ],
 "metadata": {
  "kernelspec": {
   "display_name": "Python 3",
   "language": "python",
   "name": "python3"
  },
  "language_info": {
   "codemirror_mode": {
    "name": "ipython",
    "version": 3
   },
   "file_extension": ".py",
   "mimetype": "text/x-python",
   "name": "python",
   "nbconvert_exporter": "python",
   "pygments_lexer": "ipython3",
   "version": "3.11.6"
  }
 },
 "nbformat": 4,
 "nbformat_minor": 2
}
